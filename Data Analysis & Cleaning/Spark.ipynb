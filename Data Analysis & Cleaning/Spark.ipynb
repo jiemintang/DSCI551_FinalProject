{
 "cells": [
  {
   "cell_type": "code",
   "execution_count": 1,
   "metadata": {
    "collapsed": true
   },
   "outputs": [],
   "source": [
    "import findspark\n",
    "findspark.init()"
   ]
  },
  {
   "cell_type": "code",
   "execution_count": 2,
   "metadata": {
    "collapsed": true
   },
   "outputs": [],
   "source": [
    "from pyspark.context import SparkContext\n",
    "from pyspark.sql.session import SparkSession\n",
    "from pyspark.sql import functions as F"
   ]
  },
  {
   "cell_type": "code",
   "execution_count": 3,
   "metadata": {
    "collapsed": true
   },
   "outputs": [],
   "source": [
    "sc = SparkContext('local')\n",
    "spark = SparkSession(sc)"
   ]
  },
  {
   "cell_type": "code",
   "execution_count": 4,
   "metadata": {
    "collapsed": true
   },
   "outputs": [],
   "source": [
    "#df = spark.read.csv(\"Crime_Data_2010_2017.csv\")\n",
    "df = spark.read.format(\"csv\").option(\"header\", \"True\").option(\"delimiter\", \",\").load(\"Crime_Data_2010_2017.csv\")"
   ]
  },
  {
   "cell_type": "code",
   "execution_count": 5,
   "metadata": {},
   "outputs": [
    {
     "data": {
      "text/plain": [
       "Row(DR Number='1208575', Date Reported='03/14/2013', Date Occurred='03/11/2013', Time Occurred='1800', Area ID='12', Area Name='77th Street', Reporting District='1241', Crime Code='626', Crime Code Description='INTIMATE PARTNER - SIMPLE ASSAULT', MO Codes='0416 0446 1243 2000', Victim Age='30.0', Victim Sex='F', Victim Descent='W', Premise Code='502.0', Premise Description='MULTI-UNIT DWELLING (APARTMENT, DUPLEX, ETC)', Weapon Used Code='400.0', Weapon Description='STRONG-ARM (HANDS, FIST, FEET OR BODILY FORCE)', Status Code='AO', Status Description='Adult Other', Crime Code 1='626.0', Crime Code 2=None, Crime Code 3=None, Crime Code 4=None, Address='6300    BRYNHURST                    AV', Cross Street=None, Location ='(33.9829, -118.3338)')"
      ]
     },
     "execution_count": 5,
     "metadata": {},
     "output_type": "execute_result"
    }
   ],
   "source": [
    "df.head()"
   ]
  },
  {
   "cell_type": "code",
   "execution_count": 6,
   "metadata": {},
   "outputs": [
    {
     "name": "stdout",
     "output_type": "stream",
     "text": [
      "+---------+-------------+-------------+-------------+-------+-----------+------------------+----------+----------------------+-------------------+----------+----------+--------------+------------+--------------------+----------------+--------------------+-----------+------------------+------------+------------+------------+------------+--------------------+------------+--------------------+\n",
      "|DR Number|Date Reported|Date Occurred|Time Occurred|Area ID|  Area Name|Reporting District|Crime Code|Crime Code Description|           MO Codes|Victim Age|Victim Sex|Victim Descent|Premise Code| Premise Description|Weapon Used Code|  Weapon Description|Status Code|Status Description|Crime Code 1|Crime Code 2|Crime Code 3|Crime Code 4|             Address|Cross Street|           Location |\n",
      "+---------+-------------+-------------+-------------+-------+-----------+------------------+----------+----------------------+-------------------+----------+----------+--------------+------------+--------------------+----------------+--------------------+-----------+------------------+------------+------------+------------+------------+--------------------+------------+--------------------+\n",
      "|  1208575|   03/14/2013|   03/11/2013|         1800|     12|77th Street|              1241|       626|  INTIMATE PARTNER ...|0416 0446 1243 2000|      30.0|         F|             W|       502.0|MULTI-UNIT DWELLI...|           400.0|STRONG-ARM (HANDS...|         AO|       Adult Other|       626.0|        null|        null|        null|6300    BRYNHURST...|        null|(33.9829, -118.3338)|\n",
      "|102005556|   01/25/2010|   01/22/2010|         2300|     20|    Olympic|              2071|       510|      VEHICLE - STOLEN|               null|      null|      null|          null|       101.0|              STREET|            null|                null|         IC|       Invest Cont|       510.0|        null|        null|        null|            VAN NESS|        15TH|(34.0454, -118.3157)|\n",
      "+---------+-------------+-------------+-------------+-------+-----------+------------------+----------+----------------------+-------------------+----------+----------+--------------+------------+--------------------+----------------+--------------------+-----------+------------------+------------+------------+------------+------------+--------------------+------------+--------------------+\n",
      "only showing top 2 rows\n",
      "\n"
     ]
    }
   ],
   "source": [
    "df.show(2)"
   ]
  },
  {
   "cell_type": "code",
   "execution_count": 7,
   "metadata": {},
   "outputs": [
    {
     "data": {
      "text/plain": [
       "1584316"
      ]
     },
     "execution_count": 7,
     "metadata": {},
     "output_type": "execute_result"
    }
   ],
   "source": [
    "df.count()"
   ]
  },
  {
   "cell_type": "code",
   "execution_count": 8,
   "metadata": {},
   "outputs": [
    {
     "name": "stdout",
     "output_type": "stream",
     "text": [
      "root\n",
      " |-- DR Number: string (nullable = true)\n",
      " |-- Date Reported: string (nullable = true)\n",
      " |-- Date Occurred: string (nullable = true)\n",
      " |-- Time Occurred: string (nullable = true)\n",
      " |-- Area ID: string (nullable = true)\n",
      " |-- Area Name: string (nullable = true)\n",
      " |-- Reporting District: string (nullable = true)\n",
      " |-- Crime Code: string (nullable = true)\n",
      " |-- Crime Code Description: string (nullable = true)\n",
      " |-- MO Codes: string (nullable = true)\n",
      " |-- Victim Age: string (nullable = true)\n",
      " |-- Victim Sex: string (nullable = true)\n",
      " |-- Victim Descent: string (nullable = true)\n",
      " |-- Premise Code: string (nullable = true)\n",
      " |-- Premise Description: string (nullable = true)\n",
      " |-- Weapon Used Code: string (nullable = true)\n",
      " |-- Weapon Description: string (nullable = true)\n",
      " |-- Status Code: string (nullable = true)\n",
      " |-- Status Description: string (nullable = true)\n",
      " |-- Crime Code 1: string (nullable = true)\n",
      " |-- Crime Code 2: string (nullable = true)\n",
      " |-- Crime Code 3: string (nullable = true)\n",
      " |-- Crime Code 4: string (nullable = true)\n",
      " |-- Address: string (nullable = true)\n",
      " |-- Cross Street: string (nullable = true)\n",
      " |-- Location : string (nullable = true)\n",
      "\n"
     ]
    }
   ],
   "source": [
    "df.printSchema()"
   ]
  },
  {
   "cell_type": "code",
   "execution_count": 9,
   "metadata": {},
   "outputs": [
    {
     "data": {
      "text/plain": [
       "['DR Number',\n",
       " 'Date Reported',\n",
       " 'Date Occurred',\n",
       " 'Time Occurred',\n",
       " 'Area ID',\n",
       " 'Area Name',\n",
       " 'Reporting District',\n",
       " 'Crime Code',\n",
       " 'Crime Code Description',\n",
       " 'MO Codes',\n",
       " 'Victim Age',\n",
       " 'Victim Sex',\n",
       " 'Victim Descent',\n",
       " 'Premise Code',\n",
       " 'Premise Description',\n",
       " 'Weapon Used Code',\n",
       " 'Weapon Description',\n",
       " 'Status Code',\n",
       " 'Status Description',\n",
       " 'Crime Code 1',\n",
       " 'Crime Code 2',\n",
       " 'Crime Code 3',\n",
       " 'Crime Code 4',\n",
       " 'Address',\n",
       " 'Cross Street',\n",
       " 'Location ']"
      ]
     },
     "execution_count": 9,
     "metadata": {},
     "output_type": "execute_result"
    }
   ],
   "source": [
    "df.columns"
   ]
  },
  {
   "cell_type": "code",
   "execution_count": 10,
   "metadata": {
    "collapsed": true
   },
   "outputs": [],
   "source": [
    "from pyspark.sql.functions import isnan, when, count, col"
   ]
  },
  {
   "cell_type": "code",
   "execution_count": 11,
   "metadata": {},
   "outputs": [
    {
     "name": "stdout",
     "output_type": "stream",
     "text": [
      "+---------+-------------+-------------+-------------+-------+---------+------------------+----------+----------------------+--------+----------+----------+--------------+------------+-------------------+----------------+------------------+-----------+------------------+------------+------------+------------+------------+-------+------------+---------+\n",
      "|DR Number|Date Reported|Date Occurred|Time Occurred|Area ID|Area Name|Reporting District|Crime Code|Crime Code Description|MO Codes|Victim Age|Victim Sex|Victim Descent|Premise Code|Premise Description|Weapon Used Code|Weapon Description|Status Code|Status Description|Crime Code 1|Crime Code 2|Crime Code 3|Crime Code 4|Address|Cross Street|Location |\n",
      "+---------+-------------+-------------+-------------+-------+---------+------------------+----------+----------------------+--------+----------+----------+--------------+------------+-------------------+----------------+------------------+-----------+------------------+------------+------------+------------+------------+-------+------------+---------+\n",
      "|        0|            0|            0|            0|      0|        0|                 0|         0|                   412|  171759|    128659|    145199|        145232|          76|               2751|         1059559|           1059560|          2|                 0|           7|     1484319|     1582133|     1584247|      0|     1321583|        9|\n",
      "+---------+-------------+-------------+-------------+-------+---------+------------------+----------+----------------------+--------+----------+----------+--------------+------------+-------------------+----------------+------------------+-----------+------------------+------------+------------+------------+------------+-------+------------+---------+\n",
      "\n"
     ]
    }
   ],
   "source": [
    "df.select([count(when(isnan(c) | col(c).isNull(), c)).alias(c) for c in df.columns]).show()"
   ]
  },
  {
   "cell_type": "code",
   "execution_count": 12,
   "metadata": {
    "collapsed": true
   },
   "outputs": [],
   "source": [
    "df_filtered = df.select(\"Date Reported\", \"Date Occurred\", \"Time Occurred\", \"Area ID\", \"Reporting District\", \n",
    "                       \"Crime Code\", \"Crime Code Description\", \"MO Codes\", \"Victim Age\", \"Victim Sex\", \"Victim Descent\", \"Premise Code\", \n",
    "                       \"Weapon Used Code\", \"Crime Code 1\")"
   ]
  },
  {
   "cell_type": "code",
   "execution_count": 13,
   "metadata": {
    "collapsed": true
   },
   "outputs": [],
   "source": [
    "#df_filtered.show(10)"
   ]
  },
  {
   "cell_type": "code",
   "execution_count": 14,
   "metadata": {
    "collapsed": true
   },
   "outputs": [],
   "source": [
    "from pyspark.sql.types import IntegerType\n",
    "#df_filtered.groupBy(df_filtered[\"Crime Code\"].cast(IntegerType()).alias(\"Crime Code\")).count().show()"
   ]
  },
  {
   "cell_type": "code",
   "execution_count": 15,
   "metadata": {
    "collapsed": true
   },
   "outputs": [],
   "source": [
    "#df.select(\"Victim Sex\").distinct().show()"
   ]
  },
  {
   "cell_type": "code",
   "execution_count": 16,
   "metadata": {
    "collapsed": true
   },
   "outputs": [],
   "source": [
    "df_notNull = df_filtered.filter(df_filtered[\"Crime Code Description\"].isNotNull())"
   ]
  },
  {
   "cell_type": "code",
   "execution_count": 17,
   "metadata": {},
   "outputs": [
    {
     "data": {
      "text/plain": [
       "1583904"
      ]
     },
     "execution_count": 17,
     "metadata": {},
     "output_type": "execute_result"
    }
   ],
   "source": [
    "df_notNull.count()"
   ]
  },
  {
   "cell_type": "code",
   "execution_count": 18,
   "metadata": {},
   "outputs": [
    {
     "name": "stdout",
     "output_type": "stream",
     "text": [
      "+----------+------+\n",
      "|Crime Code| count|\n",
      "+----------+------+\n",
      "|       624|145767|\n",
      "|       510|121329|\n",
      "|       330|121318|\n",
      "|       310|114751|\n",
      "|       440|113709|\n",
      "|       354|100653|\n",
      "|       626| 85908|\n",
      "|       740| 79433|\n",
      "|       745| 71523|\n",
      "|       230| 67631|\n",
      "|       420| 63995|\n",
      "|       210| 63408|\n",
      "|       341| 56377|\n",
      "|       930| 44560|\n",
      "|       442| 35032|\n",
      "|       331| 22588|\n",
      "|       649| 18856|\n",
      "|       946| 16449|\n",
      "|       956| 16371|\n",
      "|       900| 16053|\n",
      "+----------+------+\n",
      "only showing top 20 rows\n",
      "\n"
     ]
    }
   ],
   "source": [
    "crimeCode_count = df_notNull.groupBy(df_notNull[\"Crime Code\"].cast(IntegerType()).alias(\"Crime Code\")).count()\n",
    "crimeCode_count.orderBy(crimeCode_count[\"count\"].desc()).show()"
   ]
  },
  {
   "cell_type": "code",
   "execution_count": 19,
   "metadata": {},
   "outputs": [
    {
     "name": "stdout",
     "output_type": "stream",
     "text": [
      "+----------+------+\n",
      "|Victim Sex| count|\n",
      "+----------+------+\n",
      "|         M|739521|\n",
      "|         F|675054|\n",
      "|      null|145198|\n",
      "|         X| 24077|\n",
      "|         H|    53|\n",
      "|         -|     1|\n",
      "+----------+------+\n",
      "\n"
     ]
    }
   ],
   "source": [
    "victimSex_count = df_notNull.groupBy(df_notNull[\"Victim Sex\"].alias(\"Victim Sex\")).count()\n",
    "victimSex_count.orderBy(victimSex_count[\"count\"].desc()).show()"
   ]
  },
  {
   "cell_type": "code",
   "execution_count": 20,
   "metadata": {
    "collapsed": true
   },
   "outputs": [],
   "source": [
    "from itertools import chain\n",
    "from pyspark.sql.functions import create_map, lit"
   ]
  },
  {
   "cell_type": "code",
   "execution_count": 21,
   "metadata": {},
   "outputs": [
    {
     "name": "stdout",
     "output_type": "stream",
     "text": [
      "+--------------------+------+\n",
      "|      Victim Descent| count|\n",
      "+--------------------+------+\n",
      "|Hispanic/Latin/Me...|549363|\n",
      "|               White|391787|\n",
      "|               Black|254895|\n",
      "|               Other|152758|\n",
      "|                null|145231|\n",
      "|             Unknown| 41531|\n",
      "|         Other Asian| 37136|\n",
      "|              Korean|  7136|\n",
      "|            Filipino|  1885|\n",
      "|American Indian/A...|   663|\n",
      "|             Chinese|   618|\n",
      "|    Pacific Islander|   276|\n",
      "|            Japanese|   237|\n",
      "|            Hawaiian|   137|\n",
      "|           Vietamese|    86|\n",
      "|           Guamanian|    60|\n",
      "|        Asian Indian|    55|\n",
      "|              Samoan|    24|\n",
      "|           Cambodian|    15|\n",
      "|             Laotian|    10|\n",
      "|                null|     1|\n",
      "+--------------------+------+\n",
      "\n"
     ]
    }
   ],
   "source": [
    "victimDescent_count = df_notNull.groupBy(df_notNull[\"Victim Descent\"].alias(\"Victim Descent\")).count()\n",
    "descentDict = {\"A\":\"Other Asian\", \"H\":\"Hispanic/Latin/Mexican\", \"B\":\"Black\", \"C\":\"Chinese\", \n",
    "             \"D\":\"Cambodian\", \"F\":\"Filipino\", \"G\":\"Guamanian\", \"I\":\"American Indian/Alaskan Native\", \n",
    "             \"J\":\"Japanese\", \"K\":\"Korean\", \"L\":\"Laotian\", \"O\":\"Other\", \"P\":\"Pacific Islander\",\n",
    "             \"S\":\"Samoan\", \"U\":\"Hawaiian\", \"V\":\"Vietamese\", \"W\":\"White\", \"X\":\"Unknown\", \n",
    "             \"Z\":\"Asian Indian\"}\n",
    "\n",
    "mapping_expr = create_map([lit(x) for x in chain(*descentDict.items())])\n",
    "victimDescent_count = victimDescent_count.withColumn('Victim Descent', mapping_expr[victimDescent_count['Victim Descent']])\n",
    "\n",
    "#mapping = create_map([lit(x) for x in chain(*descentDict.items())])\n",
    "#victimDescent_count.select(mapping[victimDescent_count['Victim Descent']].alias('Victim Descent'))\n",
    "victimDescent_count.orderBy(victimDescent_count[\"count\"].desc()).show(25)"
   ]
  },
  {
   "cell_type": "code",
   "execution_count": 22,
   "metadata": {},
   "outputs": [
    {
     "name": "stdout",
     "output_type": "stream",
     "text": [
      "+----------+------+\n",
      "|Victim Age| count|\n",
      "+----------+------+\n",
      "|      null|128601|\n",
      "|      15.0| 38175|\n",
      "|      25.0| 36935|\n",
      "|      24.0| 36093|\n",
      "|      26.0| 35689|\n",
      "|      23.0| 35129|\n",
      "|      27.0| 35093|\n",
      "|      28.0| 34513|\n",
      "|      29.0| 34323|\n",
      "|      30.0| 33681|\n",
      "|      14.0| 32791|\n",
      "|      22.0| 32659|\n",
      "|      16.0| 31866|\n",
      "|      31.0| 31642|\n",
      "|      32.0| 31192|\n",
      "|      35.0| 30366|\n",
      "|      33.0| 30277|\n",
      "|      21.0| 30071|\n",
      "|      34.0| 30021|\n",
      "|      36.0| 28005|\n",
      "+----------+------+\n",
      "only showing top 20 rows\n",
      "\n"
     ]
    }
   ],
   "source": [
    "victimAge_count = df_notNull.groupBy(df_notNull[\"Victim Age\"].alias(\"Victim Age\")).count()\n",
    "victimAge_count.orderBy(victimAge_count[\"count\"].desc()).show()"
   ]
  },
  {
   "cell_type": "code",
   "execution_count": 23,
   "metadata": {},
   "outputs": [
    {
     "name": "stdout",
     "output_type": "stream",
     "text": [
      "+-------+------+\n",
      "|Area ID| count|\n",
      "+-------+------+\n",
      "|     12|110545|\n",
      "|      3|102233|\n",
      "|     15| 86370|\n",
      "|     14| 83756|\n",
      "|     18| 83475|\n",
      "|     19| 80230|\n",
      "|     11| 76616|\n",
      "|      9| 75412|\n",
      "|     13| 74373|\n",
      "|     17| 74007|\n",
      "|     21| 73280|\n",
      "|      6| 72206|\n",
      "|      5| 70942|\n",
      "|     20| 70108|\n",
      "|     10| 67792|\n",
      "|      1| 67081|\n",
      "|      2| 66999|\n",
      "|      8| 66380|\n",
      "|      7| 63595|\n",
      "|     16| 60927|\n",
      "+-------+------+\n",
      "only showing top 20 rows\n",
      "\n"
     ]
    }
   ],
   "source": [
    "AreaID_count = df_notNull.groupBy(df_notNull[\"Area ID\"].alias(\"Area ID\")).count()\n",
    "AreaID_count.orderBy(AreaID_count[\"count\"].desc()).show()"
   ]
  },
  {
   "cell_type": "code",
   "execution_count": null,
   "metadata": {
    "collapsed": true
   },
   "outputs": [],
   "source": []
  }
 ],
 "metadata": {
  "kernelspec": {
   "display_name": "Python 3",
   "language": "python",
   "name": "python3"
  },
  "language_info": {
   "codemirror_mode": {
    "name": "ipython",
    "version": 3
   },
   "file_extension": ".py",
   "mimetype": "text/x-python",
   "name": "python",
   "nbconvert_exporter": "python",
   "pygments_lexer": "ipython3",
   "version": "3.7.4"
  }
 },
 "nbformat": 4,
 "nbformat_minor": 2
}
