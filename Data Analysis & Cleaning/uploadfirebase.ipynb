{
 "cells": [
  {
   "cell_type": "code",
   "execution_count": 1,
   "metadata": {},
   "outputs": [],
   "source": [
    "import requests\n",
    "import json"
   ]
  },
  {
   "cell_type": "code",
   "execution_count": 2,
   "metadata": {},
   "outputs": [],
   "source": [
    "import pandas as pd\n",
    "import numpy as np\n",
    "import matplotlib.pyplot as plt\n",
    "from datetime import datetime\n",
    "import time\n",
    "import seaborn as sns"
   ]
  },
  {
   "cell_type": "code",
   "execution_count": 3,
   "metadata": {},
   "outputs": [],
   "source": [
    "data_frame = pd.read_csv('Crime_Data_2010_2017.csv')\n",
    "df = data_frame.copy()"
   ]
  },
  {
   "cell_type": "code",
   "execution_count": 4,
   "metadata": {},
   "outputs": [],
   "source": [
    "df = df.drop([\"Crime Code 1\", \"Crime Code 2\", \"Crime Code 3\", \"Crime Code 4\", \"MO Codes\", \"Date Reported\",\n",
    "              \"Premise Code\", \"Premise Description\", \"Weapon Used Code\",\"Cross Street\", \"Status Code\",\n",
    "              \"Status Description\"], axis = 1)"
   ]
  },
  {
   "cell_type": "code",
   "execution_count": 5,
   "metadata": {},
   "outputs": [],
   "source": [
    "df = df[df[\"Crime Code Description\"].notnull()]\n",
    "df = df.drop('Crime Code', axis = 1)"
   ]
  },
  {
   "cell_type": "code",
   "execution_count": 6,
   "metadata": {},
   "outputs": [
    {
     "data": {
      "text/html": [
       "<div>\n",
       "<style scoped>\n",
       "    .dataframe tbody tr th:only-of-type {\n",
       "        vertical-align: middle;\n",
       "    }\n",
       "\n",
       "    .dataframe tbody tr th {\n",
       "        vertical-align: top;\n",
       "    }\n",
       "\n",
       "    .dataframe thead th {\n",
       "        text-align: right;\n",
       "    }\n",
       "</style>\n",
       "<table border=\"1\" class=\"dataframe\">\n",
       "  <thead>\n",
       "    <tr style=\"text-align: right;\">\n",
       "      <th></th>\n",
       "      <th>DR Number</th>\n",
       "      <th>Date Occurred</th>\n",
       "      <th>Time Occurred</th>\n",
       "      <th>Area ID</th>\n",
       "      <th>Area Name</th>\n",
       "      <th>Reporting District</th>\n",
       "      <th>Crime Code Description</th>\n",
       "      <th>Victim Age</th>\n",
       "      <th>Victim Sex</th>\n",
       "      <th>Victim Descent</th>\n",
       "      <th>Weapon Description</th>\n",
       "      <th>Address</th>\n",
       "      <th>Location</th>\n",
       "    </tr>\n",
       "  </thead>\n",
       "  <tbody>\n",
       "    <tr>\n",
       "      <td>0</td>\n",
       "      <td>1208575</td>\n",
       "      <td>03/11/2013</td>\n",
       "      <td>1800</td>\n",
       "      <td>12</td>\n",
       "      <td>77th Street</td>\n",
       "      <td>1241</td>\n",
       "      <td>INTIMATE PARTNER - SIMPLE ASSAULT</td>\n",
       "      <td>30.0</td>\n",
       "      <td>F</td>\n",
       "      <td>W</td>\n",
       "      <td>STRONG-ARM (HANDS, FIST, FEET OR BODILY FORCE)</td>\n",
       "      <td>6300    BRYNHURST                    AV</td>\n",
       "      <td>(33.9829, -118.3338)</td>\n",
       "    </tr>\n",
       "    <tr>\n",
       "      <td>1</td>\n",
       "      <td>102005556</td>\n",
       "      <td>01/22/2010</td>\n",
       "      <td>2300</td>\n",
       "      <td>20</td>\n",
       "      <td>Olympic</td>\n",
       "      <td>2071</td>\n",
       "      <td>VEHICLE - STOLEN</td>\n",
       "      <td>NaN</td>\n",
       "      <td>NaN</td>\n",
       "      <td>NaN</td>\n",
       "      <td>NaN</td>\n",
       "      <td>VAN NESS</td>\n",
       "      <td>(34.0454, -118.3157)</td>\n",
       "    </tr>\n",
       "    <tr>\n",
       "      <td>2</td>\n",
       "      <td>418</td>\n",
       "      <td>03/18/2013</td>\n",
       "      <td>2030</td>\n",
       "      <td>18</td>\n",
       "      <td>Southeast</td>\n",
       "      <td>1823</td>\n",
       "      <td>VEHICLE - STOLEN</td>\n",
       "      <td>12.0</td>\n",
       "      <td>NaN</td>\n",
       "      <td>NaN</td>\n",
       "      <td>NaN</td>\n",
       "      <td>200 E  104TH                        ST</td>\n",
       "      <td>(33.942, -118.2717)</td>\n",
       "    </tr>\n",
       "    <tr>\n",
       "      <td>3</td>\n",
       "      <td>101822289</td>\n",
       "      <td>11/10/2010</td>\n",
       "      <td>1800</td>\n",
       "      <td>18</td>\n",
       "      <td>Southeast</td>\n",
       "      <td>1803</td>\n",
       "      <td>VEHICLE - STOLEN</td>\n",
       "      <td>NaN</td>\n",
       "      <td>NaN</td>\n",
       "      <td>NaN</td>\n",
       "      <td>NaN</td>\n",
       "      <td>88TH</td>\n",
       "      <td>(33.9572, -118.2717)</td>\n",
       "    </tr>\n",
       "    <tr>\n",
       "      <td>4</td>\n",
       "      <td>42104479</td>\n",
       "      <td>01/04/2014</td>\n",
       "      <td>2300</td>\n",
       "      <td>21</td>\n",
       "      <td>Topanga</td>\n",
       "      <td>2133</td>\n",
       "      <td>VANDALISM - MISDEAMEANOR ($399 OR UNDER)</td>\n",
       "      <td>84.0</td>\n",
       "      <td>M</td>\n",
       "      <td>W</td>\n",
       "      <td>NaN</td>\n",
       "      <td>7200    CIRRUS                       WY</td>\n",
       "      <td>(34.2009, -118.6369)</td>\n",
       "    </tr>\n",
       "  </tbody>\n",
       "</table>\n",
       "</div>"
      ],
      "text/plain": [
       "   DR Number Date Occurred  Time Occurred  Area ID    Area Name  \\\n",
       "0    1208575    03/11/2013           1800       12  77th Street   \n",
       "1  102005556    01/22/2010           2300       20      Olympic   \n",
       "2        418    03/18/2013           2030       18    Southeast   \n",
       "3  101822289    11/10/2010           1800       18    Southeast   \n",
       "4   42104479    01/04/2014           2300       21      Topanga   \n",
       "\n",
       "   Reporting District                    Crime Code Description  Victim Age  \\\n",
       "0                1241         INTIMATE PARTNER - SIMPLE ASSAULT        30.0   \n",
       "1                2071                          VEHICLE - STOLEN         NaN   \n",
       "2                1823                          VEHICLE - STOLEN        12.0   \n",
       "3                1803                          VEHICLE - STOLEN         NaN   \n",
       "4                2133  VANDALISM - MISDEAMEANOR ($399 OR UNDER)        84.0   \n",
       "\n",
       "  Victim Sex Victim Descent                              Weapon Description  \\\n",
       "0          F              W  STRONG-ARM (HANDS, FIST, FEET OR BODILY FORCE)   \n",
       "1        NaN            NaN                                             NaN   \n",
       "2        NaN            NaN                                             NaN   \n",
       "3        NaN            NaN                                             NaN   \n",
       "4          M              W                                             NaN   \n",
       "\n",
       "                                   Address             Location   \n",
       "0  6300    BRYNHURST                    AV  (33.9829, -118.3338)  \n",
       "1                                 VAN NESS  (34.0454, -118.3157)  \n",
       "2   200 E  104TH                        ST   (33.942, -118.2717)  \n",
       "3                                     88TH  (33.9572, -118.2717)  \n",
       "4  7200    CIRRUS                       WY  (34.2009, -118.6369)  "
      ]
     },
     "execution_count": 6,
     "metadata": {},
     "output_type": "execute_result"
    }
   ],
   "source": [
    "df.head(5)"
   ]
  },
  {
   "cell_type": "code",
   "execution_count": 7,
   "metadata": {},
   "outputs": [
    {
     "data": {
      "text/plain": [
       "Index(['DR Number', 'Date Occurred', 'Time Occurred', 'Area ID', 'Area Name',\n",
       "       'Reporting District', 'Crime Code Description', 'Victim Age',\n",
       "       'Victim Sex', 'Victim Descent', 'Weapon Description', 'Address',\n",
       "       'Location '],\n",
       "      dtype='object')"
      ]
     },
     "execution_count": 7,
     "metadata": {},
     "output_type": "execute_result"
    }
   ],
   "source": [
    "df.columns"
   ]
  },
  {
   "cell_type": "code",
   "execution_count": 8,
   "metadata": {},
   "outputs": [],
   "source": [
    "df.rename(columns = {'DR Number':'DRNumber', 'Date Occurred':'DateOccurred', 'Time Occurred':'TimeOccurred',\n",
    "                    'Area ID':'AreaID', 'Area Name':'AreaName', 'Reporting District':'ReportingDistrict', \n",
    "                     'Crime Code Description':'CCDescription', 'Victim Age':'VictimAge', 'Victim Sex':'VictimSex', \n",
    "                     'Victim Descent':'VictimDescent', 'Weapon Description':'WeaponDescription', \n",
    "                     'Address':'Address','Location ':'Location'}, inplace = True)"
   ]
  },
  {
   "cell_type": "code",
   "execution_count": 9,
   "metadata": {},
   "outputs": [],
   "source": [
    "df = df.fillna(0)"
   ]
  },
  {
   "cell_type": "code",
   "execution_count": 39,
   "metadata": {},
   "outputs": [],
   "source": [
    "upload = df.iloc[:100000, :]"
   ]
  },
  {
   "cell_type": "code",
   "execution_count": 40,
   "metadata": {},
   "outputs": [],
   "source": [
    "my_dict = upload.to_dict('index')"
   ]
  },
  {
   "cell_type": "code",
   "execution_count": 41,
   "metadata": {},
   "outputs": [
    {
     "data": {
      "text/plain": [
       "<Response [200]>"
      ]
     },
     "execution_count": 41,
     "metadata": {},
     "output_type": "execute_result"
    }
   ],
   "source": [
    "url = 'https://finalproject-22bb5.firebaseio.com/data.json'\n",
    "requests.put(url, json = my_dict)\n",
    "#requests.delete(url)"
   ]
  },
  {
   "cell_type": "markdown",
   "metadata": {},
   "source": [
    "for i in range(1, 16):\n",
    "    if i == 15:\n",
    "        upload1 = df.iloc[1500000:, :]\n",
    "    else:\n",
    "        upload1 = df.iloc[i*100000:(i+1)*1000000, :]\n",
    "    \n",
    "    my_dict1 = upload1.to_dict('index')\n",
    "    requests.patch(url, json = my_dict1)\n",
    "    print(i + \"is done\")"
   ]
  },
  {
   "cell_type": "code",
   "execution_count": 42,
   "metadata": {},
   "outputs": [
    {
     "data": {
      "text/plain": [
       "<Response [200]>"
      ]
     },
     "execution_count": 42,
     "metadata": {},
     "output_type": "execute_result"
    }
   ],
   "source": [
    "upload2 = df.iloc[100000:200000, :]\n",
    "my_dict2 = upload2.to_dict('index')\n",
    "requests.patch(url, json = my_dict2)"
   ]
  },
  {
   "cell_type": "code",
   "execution_count": 43,
   "metadata": {},
   "outputs": [
    {
     "data": {
      "text/plain": [
       "<Response [200]>"
      ]
     },
     "execution_count": 43,
     "metadata": {},
     "output_type": "execute_result"
    }
   ],
   "source": [
    "upload3 = df.iloc[200000:300000, :]\n",
    "my_dict3 = upload3.to_dict('index')\n",
    "requests.patch(url, json = my_dict3)"
   ]
  },
  {
   "cell_type": "code",
   "execution_count": 44,
   "metadata": {},
   "outputs": [
    {
     "data": {
      "text/plain": [
       "<Response [200]>"
      ]
     },
     "execution_count": 44,
     "metadata": {},
     "output_type": "execute_result"
    }
   ],
   "source": [
    "upload4 = df.iloc[300000:400000, :]\n",
    "my_dict4 = upload4.to_dict('index')\n",
    "requests.patch(url, json = my_dict4)"
   ]
  },
  {
   "cell_type": "code",
   "execution_count": 45,
   "metadata": {},
   "outputs": [
    {
     "data": {
      "text/plain": [
       "<Response [200]>"
      ]
     },
     "execution_count": 45,
     "metadata": {},
     "output_type": "execute_result"
    }
   ],
   "source": [
    "upload5 = df.iloc[400000:500000, :]\n",
    "my_dict5 = upload5.to_dict('index')\n",
    "requests.patch(url, json = my_dict5)"
   ]
  },
  {
   "cell_type": "code",
   "execution_count": 46,
   "metadata": {},
   "outputs": [
    {
     "data": {
      "text/plain": [
       "<Response [200]>"
      ]
     },
     "execution_count": 46,
     "metadata": {},
     "output_type": "execute_result"
    }
   ],
   "source": [
    "upload6 = df.iloc[500000:600000, :]\n",
    "my_dict6 = upload6.to_dict('index')\n",
    "requests.patch(url, json = my_dict6)"
   ]
  },
  {
   "cell_type": "code",
   "execution_count": 47,
   "metadata": {},
   "outputs": [
    {
     "data": {
      "text/plain": [
       "<Response [200]>"
      ]
     },
     "execution_count": 47,
     "metadata": {},
     "output_type": "execute_result"
    }
   ],
   "source": [
    "upload7 = df.iloc[600000:700000, :]\n",
    "my_dict7 = upload7.to_dict('index')\n",
    "requests.patch(url, json = my_dict7)"
   ]
  },
  {
   "cell_type": "code",
   "execution_count": 48,
   "metadata": {},
   "outputs": [
    {
     "data": {
      "text/plain": [
       "<Response [200]>"
      ]
     },
     "execution_count": 48,
     "metadata": {},
     "output_type": "execute_result"
    }
   ],
   "source": [
    "upload8 = df.iloc[700000:800000, :]\n",
    "my_dict8 = upload8.to_dict('index')\n",
    "requests.patch(url, json = my_dict8)"
   ]
  },
  {
   "cell_type": "code",
   "execution_count": 49,
   "metadata": {},
   "outputs": [
    {
     "data": {
      "text/plain": [
       "<Response [200]>"
      ]
     },
     "execution_count": 49,
     "metadata": {},
     "output_type": "execute_result"
    }
   ],
   "source": [
    "upload9 = df.iloc[800000:900000, :]\n",
    "my_dict9 = upload9.to_dict('index')\n",
    "requests.patch(url, json = my_dict9)"
   ]
  },
  {
   "cell_type": "code",
   "execution_count": 50,
   "metadata": {},
   "outputs": [
    {
     "data": {
      "text/plain": [
       "<Response [200]>"
      ]
     },
     "execution_count": 50,
     "metadata": {},
     "output_type": "execute_result"
    }
   ],
   "source": [
    "upload10 = df.iloc[900000:1000000, :]\n",
    "my_dict10 = upload10.to_dict('index')\n",
    "requests.patch(url, json = my_dict10)"
   ]
  },
  {
   "cell_type": "code",
   "execution_count": 51,
   "metadata": {},
   "outputs": [
    {
     "data": {
      "text/plain": [
       "<Response [200]>"
      ]
     },
     "execution_count": 51,
     "metadata": {},
     "output_type": "execute_result"
    }
   ],
   "source": [
    "upload11 = df.iloc[1000000:1100000, :]\n",
    "my_dict11 = upload11.to_dict('index')\n",
    "requests.patch(url, json = my_dict11)"
   ]
  },
  {
   "cell_type": "code",
   "execution_count": 52,
   "metadata": {},
   "outputs": [
    {
     "data": {
      "text/plain": [
       "<Response [200]>"
      ]
     },
     "execution_count": 52,
     "metadata": {},
     "output_type": "execute_result"
    }
   ],
   "source": [
    "upload12 = df.iloc[1100000:1200000, :]\n",
    "my_dict12 = upload12.to_dict('index')\n",
    "requests.patch(url, json = my_dict12)"
   ]
  },
  {
   "cell_type": "code",
   "execution_count": 53,
   "metadata": {},
   "outputs": [
    {
     "data": {
      "text/plain": [
       "<Response [200]>"
      ]
     },
     "execution_count": 53,
     "metadata": {},
     "output_type": "execute_result"
    }
   ],
   "source": [
    "upload13 = df.iloc[1200000:1300000, :]\n",
    "my_dict13 = upload13.to_dict('index')\n",
    "requests.patch(url, json = my_dict13)"
   ]
  },
  {
   "cell_type": "code",
   "execution_count": 54,
   "metadata": {},
   "outputs": [
    {
     "data": {
      "text/plain": [
       "<Response [200]>"
      ]
     },
     "execution_count": 54,
     "metadata": {},
     "output_type": "execute_result"
    }
   ],
   "source": [
    "upload14 = df.iloc[1300000:1400000, :]\n",
    "my_dict14 = upload14.to_dict('index')\n",
    "requests.patch(url, json = my_dict14)"
   ]
  },
  {
   "cell_type": "code",
   "execution_count": 55,
   "metadata": {},
   "outputs": [
    {
     "data": {
      "text/plain": [
       "<Response [200]>"
      ]
     },
     "execution_count": 55,
     "metadata": {},
     "output_type": "execute_result"
    }
   ],
   "source": [
    "upload15 = df.iloc[1400000:1500000, :]\n",
    "my_dict15 = upload15.to_dict('index')\n",
    "requests.patch(url, json = my_dict15)"
   ]
  },
  {
   "cell_type": "code",
   "execution_count": 56,
   "metadata": {},
   "outputs": [
    {
     "data": {
      "text/plain": [
       "<Response [200]>"
      ]
     },
     "execution_count": 56,
     "metadata": {},
     "output_type": "execute_result"
    }
   ],
   "source": [
    "upload16 = df.iloc[1500000:, :]\n",
    "my_dict16 = upload16.to_dict('index')\n",
    "requests.patch(url, json = my_dict16)"
   ]
  },
  {
   "cell_type": "code",
   "execution_count": null,
   "metadata": {},
   "outputs": [],
   "source": []
  }
 ],
 "metadata": {
  "kernelspec": {
   "display_name": "Python 3",
   "language": "python",
   "name": "python3"
  },
  "language_info": {
   "codemirror_mode": {
    "name": "ipython",
    "version": 3
   },
   "file_extension": ".py",
   "mimetype": "text/x-python",
   "name": "python",
   "nbconvert_exporter": "python",
   "pygments_lexer": "ipython3",
   "version": "3.7.4"
  }
 },
 "nbformat": 4,
 "nbformat_minor": 2
}
